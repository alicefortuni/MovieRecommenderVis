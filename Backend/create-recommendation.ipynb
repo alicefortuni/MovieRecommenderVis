{
 "cells": [
  {
   "cell_type": "code",
   "execution_count": null,
   "id": "4cbd838d",
   "metadata": {
    "ExecuteTime": {
     "end_time": "2024-06-08T14:03:48.639818Z",
     "start_time": "2024-06-08T14:03:47.756485Z"
    }
   },
   "outputs": [],
   "source": [
    "from pyspark.sql import SparkSession\n",
    "from pyspark.sql.functions import col\n",
    "from pyspark.ml.recommendation import ALS, ALSModel\n",
    "from pyspark.ml.evaluation import RegressionEvaluator\n",
    "from pyspark.ml.tuning import CrossValidator, ParamGridBuilder\n",
    "from pyspark.ml import Pipeline\n",
    "from neo4j import GraphDatabase"
   ]
  },
  {
   "cell_type": "code",
   "execution_count": null,
   "id": "fb2a7eb8",
   "metadata": {
    "ExecuteTime": {
     "end_time": "2024-06-08T14:05:42.302234Z",
     "start_time": "2024-06-08T14:05:04.029895Z"
    }
   },
   "outputs": [],
   "source": [
    "# Init Spark\n",
    "\n",
    "spark = SparkSession.builder \\\n",
    "    .master(\"yarn\") \\\n",
    "    .config(\"spark.executor.instances\", \"2\") \\\n",
    "    .config(\"spark.executor.memory\", \"4g\") \\\n",
    "    .config(\"spark.driver.memory\", \"2g\") \\\n",
    "    .config(\"spark.locality.wait.node\", \"0\") \\\n",
    "    .appName(\"InitMovieLensRecommendation\") \\\n",
    "    .getOrCreate()\n"
   ]
  },
  {
   "cell_type": "code",
   "execution_count": null,
   "id": "8ff2874f",
   "metadata": {
    "ExecuteTime": {
     "end_time": "2024-06-08T14:06:24.648821Z",
     "start_time": "2024-06-08T14:05:54.456704Z"
    }
   },
   "outputs": [],
   "source": [
    "# Load data from HDFS\n",
    "ratings_path = \"hdfs:///user/bigdata2022/input/ratings.csv\"\n",
    "movies_path = \"hdfs:///user/bigdata2022/input/movies.csv\"\n",
    "\n",
    "ratings = spark.read.csv(ratings_path, header=True, inferSchema=True)\n",
    "movies = spark.read.csv(movies_path, header=True, inferSchema=True) "
   ]
  },
  {
   "cell_type": "code",
   "execution_count": null,
   "id": "62931506",
   "metadata": {
    "ExecuteTime": {
     "end_time": "2024-06-08T14:06:41.505166Z",
     "start_time": "2024-06-08T14:06:24.665029Z"
    }
   },
   "outputs": [],
   "source": [
    "# EDA for ratings dataset\n",
    "print(\"ratings dataset schema:\")\n",
    "ratings.printSchema()\n",
    "\n",
    "print(\"First 10 rows of ratings dataset:\")\n",
    "ratings.show(10)\n",
    "\n",
    "# Delete timestamp column\n",
    "ratings = ratings.select(\"userId\", \"movieId\", \"rating\")\n",
    "print(\"First 10 rows of ratings after selection:\")\n",
    "ratings.show(10)\n",
    "\n",
    "# Check duplicates\n",
    "dropped_duplicates = ratings.dropDuplicates()\n",
    "duplicate_count = ratings.count() - dropped_duplicates.count()\n",
    "print(f\"Number of duplicate records: {duplicate_count}\")\n",
    "\n",
    "#Print range for rating values\n",
    "min_rating = ratings.agg({\"rating\": \"min\"}).collect()[0][0]\n",
    "max_rating = ratings.agg({\"rating\": \"max\"}).collect()[0][0]\n",
    "print(f\"Ratings range: [{min_rating}, {max_rating}]\")\n",
    "\n",
    "# Print total number of users\n",
    "num_users = ratings.select(\"userId\").distinct().count()\n",
    "print(f\"Number of users: {num_users}\")\n",
    "\n",
    "# Print total number of movies\n",
    "num_movies = ratings.select(\"movieId\").distinct().count()\n",
    "print(f\"Number of movies: {num_movies}\")\n",
    "\n",
    "# Print total number of ratings\n",
    "print(\"Total ratings:\", ratings.count())"
   ]
  },
  {
   "cell_type": "code",
   "execution_count": null,
   "id": "6e579942",
   "metadata": {
    "ExecuteTime": {
     "end_time": "2024-06-08T14:07:06.561334Z",
     "start_time": "2024-06-08T14:07:05.444395Z"
    }
   },
   "outputs": [],
   "source": [
    "# EDA for movies dataset\n",
    "print(\"movies dataset schema:\")\n",
    "movies.printSchema()\n",
    "print(\"First 10 rows of movies dataset:\")\n",
    "movies.show(10)\n",
    "\n",
    "# See different genres \n",
    "distinct_genres_rows=movies.select('genres').collect()\n",
    "distinct_genres = set()\n",
    "for row in distinct_genres_rows:\n",
    "    genres_list = row['genres'].split('|') if row['genres'] else []\n",
    "    distinct_genres.update(genres_list)\n",
    "\n",
    "print(distinct_genres)"
   ]
  },
  {
   "cell_type": "code",
   "execution_count": null,
   "id": "13297b1e",
   "metadata": {
    "ExecuteTime": {
     "end_time": "2024-06-08T14:07:12.937206Z",
     "start_time": "2024-06-08T14:07:10.596745Z"
    }
   },
   "outputs": [],
   "source": [
    "# Split data in training and test\n",
    "(training, test) = ratings.randomSplit([0.8, 0.2], seed='40')\n",
    "\n",
    "print(\"Total training ratings:\", training.count())\n",
    "print(\"Total test ratings:\", test.count())"
   ]
  },
  {
   "cell_type": "code",
   "execution_count": null,
   "id": "a577e1db",
   "metadata": {
    "ExecuteTime": {
     "end_time": "2024-06-08T14:07:52.305850Z",
     "start_time": "2024-06-08T14:07:52.104570Z"
    }
   },
   "outputs": [],
   "source": [
    "# Configure ALS algorithm\n",
    "#als = ALS(userCol=\"userId\", itemCol=\"movieId\", ratingCol=\"rating\", coldStartStrategy=\"drop\", maxIter=10, regParam=0.1, rank=40)\n",
    "als = ALS(userCol=\"userId\", itemCol=\"movieId\", ratingCol=\"rating\", coldStartStrategy=\"drop\")\n",
    "\n",
    "# create pipeline\n",
    "pipeline = Pipeline(stages=[als])\n",
    "\n",
    "param_grid = ParamGridBuilder() \\\n",
    "    .addGrid(als.rank, [10, 30, 40]) \\\n",
    "    .addGrid(als.regParam, [0.01, 0.1, 0.5]) \\\n",
    "    .addGrid(als.maxIter, [10]) \\\n",
    "    .build()\n",
    "\n",
    "evaluator = RegressionEvaluator(metricName=\"rmse\", labelCol=\"rating\", predictionCol=\"prediction\")\n",
    "\n",
    "cross_validator = CrossValidator(estimator=pipeline,\n",
    "                                 estimatorParamMaps=param_grid,\n",
    "                                 evaluator=evaluator,\n",
    "                                 numFolds=3)                                 \n"
   ]
  },
  {
   "cell_type": "code",
   "execution_count": null,
   "id": "09eeeba6",
   "metadata": {
    "ExecuteTime": {
     "end_time": "2024-06-08T14:39:21.010465Z",
     "start_time": "2024-06-08T14:07:55.091732Z"
    }
   },
   "outputs": [],
   "source": [
    "# Fit the model on training data\n",
    "#model=pipeline.fit(training)\n",
    "cv_model = cross_validator.fit(training)\n",
    "model = cv_model.bestModel\n"
   ]
  },
  {
   "cell_type": "code",
   "execution_count": null,
   "id": "c2ae56f9",
   "metadata": {
    "ExecuteTime": {
     "end_time": "2024-06-08T14:41:07.315135Z",
     "start_time": "2024-06-08T14:41:07.210380Z"
    }
   },
   "outputs": [],
   "source": [
    "print(model.stages[0].rank) \n",
    "print(model.stages[0]._java_obj.parent().getMaxIter()) \n",
    "print(model.stages[0]._java_obj.parent().getRegParam()) \n",
    "\n",
    "# Model prediction\n",
    "predictions = model.transform(test)"
   ]
  },
  {
   "cell_type": "code",
   "execution_count": null,
   "id": "933103fa",
   "metadata": {
    "ExecuteTime": {
     "end_time": "2024-06-08T14:42:04.885144Z",
     "start_time": "2024-06-08T14:41:58.865656Z"
    }
   },
   "outputs": [],
   "source": [
    "#SCORES\n",
    "#evaluator = RegressionEvaluator(metricName=\"rmse\", labelCol=\"rating\", predictionCol=\"prediction\")\n",
    "rmse = evaluator.evaluate(predictions)\n",
    "mae_evaluator = RegressionEvaluator(metricName=\"mae\", labelCol=\"rating\", predictionCol=\"prediction\")\n",
    "mae = mae_evaluator.evaluate(predictions)\n",
    "\n",
    "print(f\"Root-mean-square error = {rmse}\") \n",
    "print(f\"Mean Absolute Error = {mae}\")"
   ]
  },
  {
   "cell_type": "code",
   "execution_count": null,
   "id": "47a092cf",
   "metadata": {
    "ExecuteTime": {
     "end_time": "2024-06-08T14:42:55.571848Z",
     "start_time": "2024-06-08T14:42:46.653341Z"
    }
   },
   "outputs": [],
   "source": [
    "#Save model in hdfs (Optional)\n",
    "model_path = \"hdfs:///user/bigdata2022/model\"\n",
    "model.write().overwrite().save(model_path)"
   ]
  },
  {
   "cell_type": "code",
   "execution_count": null,
   "id": "e7f99661",
   "metadata": {
    "ExecuteTime": {
     "end_time": "2024-06-08T14:43:03.421947Z",
     "start_time": "2024-06-08T14:43:02.780322Z"
    },
    "scrolled": false
   },
   "outputs": [],
   "source": [
    "#get 10 movie recommendations for users\n",
    "userRecs = model.recommendForAllUsers(10).cache()  \n",
    "print(\"userRecs dataset schema:\")\n",
    "userRecs.printSchema()"
   ]
  },
  {
   "cell_type": "code",
   "execution_count": null,
   "id": "9478b1ff",
   "metadata": {
    "ExecuteTime": {
     "end_time": "2024-06-08T14:51:13.949231Z",
     "start_time": "2024-06-08T14:43:38.402712Z"
    }
   },
   "outputs": [],
   "source": [
    "# Save recommendation in hdfs (Optional)\n",
    "recommendation_path = \"hdfs:///user/bigdata2022/output\"\n",
    "userRecs.write.format(\"parquet\").option(\"overwrite\", True).save(recommendation_path)\n"
   ]
  },
  {
   "cell_type": "code",
   "execution_count": null,
   "id": "1a0e1920",
   "metadata": {
    "ExecuteTime": {
     "end_time": "2024-06-08T14:52:44.584249Z",
     "start_time": "2024-06-08T14:52:44.559690Z"
    }
   },
   "outputs": [],
   "source": [
    "# Connection to Neo4j\n",
    "uri = \"bolt://localhost:7687\"\n",
    "driver = GraphDatabase.driver(uri, auth=(\"neo4j\", \"bigdata\"))"
   ]
  },
  {
   "cell_type": "code",
   "execution_count": null,
   "id": "97d6bfbb",
   "metadata": {
    "ExecuteTime": {
     "end_time": "2024-06-08T14:53:58.036779Z",
     "start_time": "2024-06-08T14:53:15.386610Z"
    }
   },
   "outputs": [],
   "source": [
    "# Delete all from Neo4j\n",
    "def delete_all(tx):\n",
    "    tx.run(\"MATCH ()-[r]->() DELETE r\")\n",
    "    tx.run(\"MATCH (n) DELETE n\")\n",
    "           \n",
    "with driver.session() as session:\n",
    "    session.execute_write(delete_all)"
   ]
  },
  {
   "cell_type": "code",
   "execution_count": null,
   "id": "5b7213d6",
   "metadata": {
    "ExecuteTime": {
     "end_time": "2024-06-08T14:55:00.471775Z",
     "start_time": "2024-06-08T14:54:59.103712Z"
    }
   },
   "outputs": [],
   "source": [
    "# create nodes Genre for movie genres\n",
    "def create_genre_nodes(tx, name):\n",
    "    tx.run(\"MERGE (:Genre {name: $name})\",\n",
    "           name=name)\n",
    "    \n",
    "with driver.session() as session:\n",
    "    for row in distinct_genres:\n",
    "        session.execute_write(create_genre_nodes, row)"
   ]
  },
  {
   "cell_type": "code",
   "execution_count": null,
   "id": "ec50663e",
   "metadata": {
    "ExecuteTime": {
     "end_time": "2024-06-08T15:23:27.686819Z",
     "start_time": "2024-06-08T14:55:04.467271Z"
    }
   },
   "outputs": [],
   "source": [
    "# create nodes for Users and Movies and relations :RATED, :BELONGS_TO\n",
    "ratings_movies = ratings.join(movies, \"movieId\", \"inner\")\n",
    "\n",
    "def create_nodes_and_relationships(tx, userId, movieId, rating, title, genres):\n",
    "    tx.run(\"MERGE (u:User {userId: $userId}) \"\n",
    "           \"MERGE (m:Movie {movieId: $movieId, title: $title}) \"\n",
    "           \"MERGE (u)-[:RATED {rating: $rating}]->(m)\",\n",
    "           userId=userId, movieId=movieId, rating=rating, title=title)\n",
    "    for genre_name in genres.split(\"|\"):\n",
    "        tx.run(\n",
    "            \"MATCH (m:Movie {movieId: $movieId}) \"\n",
    "            \"MATCH (g:Genre {name: $genre_name}) \"\n",
    "            \"MERGE (m)-[:BELONGS_TO]->(g)\",\n",
    "            movieId=movieId, genre_name=genre_name)\n",
    "\n",
    "with driver.session() as session:\n",
    "    for row in ratings_movies.collect():\n",
    "        session.execute_write(create_nodes_and_relationships, row.userId, row.movieId, row.rating, row.title, row.genres)\n"
   ]
  },
  {
   "cell_type": "code",
   "execution_count": null,
   "id": "7f7f4d59",
   "metadata": {
    "ExecuteTime": {
     "end_time": "2024-06-08T15:25:27.806477Z",
     "start_time": "2024-06-08T15:24:46.468519Z"
    }
   },
   "outputs": [],
   "source": [
    "# create relations :RECOMMENDED\n",
    "def create_recommendations(tx, userId, recs):\n",
    "    for rec in recs:\n",
    "        tx.run(\"MATCH (u:User {userId: $userId}), (m:Movie {movieId: $movieId}) \"\n",
    "               \"MERGE (u)-[:RECOMMENDED{rating: $rating}]->(m)\",\n",
    "               userId=userId, movieId=rec.movieId, rating=rec.rating)\n",
    "\n",
    "with driver.session() as session:\n",
    "    for row in userRecs.collect():\n",
    "        recs = row.recommendations\n",
    "        recs = recs if isinstance(recs, list) else [recs]\n",
    "        session.execute_write(create_recommendations, row.userId, recs)"
   ]
  },
  {
   "cell_type": "code",
   "execution_count": null,
   "id": "7fe9ffe0",
   "metadata": {
    "ExecuteTime": {
     "end_time": "2024-06-08T15:25:48.492719Z",
     "start_time": "2024-06-08T15:25:46.383695Z"
    }
   },
   "outputs": [],
   "source": [
    "#close all\n",
    "driver.close()\n",
    "spark.stop()"
   ]
  }
 ],
 "metadata": {
  "kernelspec": {
   "display_name": "Python 3 (PySpark)",
   "language": "python",
   "name": "pyspark"
  },
  "language_info": {
   "codemirror_mode": {
    "name": "ipython",
    "version": 3
   },
   "file_extension": ".py",
   "mimetype": "text/x-python",
   "name": "python",
   "nbconvert_exporter": "python",
   "pygments_lexer": "ipython3",
   "version": "3.10.12"
  }
 },
 "nbformat": 4,
 "nbformat_minor": 5
}
